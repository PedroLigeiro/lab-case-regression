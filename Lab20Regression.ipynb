{
 "cells": [
  {
   "cell_type": "markdown",
   "id": "791f1e53",
   "metadata": {},
   "source": [
    "# Lab Random Forests"
   ]
  },
  {
   "cell_type": "code",
   "execution_count": 1,
   "id": "e8922a1f",
   "metadata": {},
   "outputs": [],
   "source": [
    "import pandas as pd\n",
    "import numpy as np\n",
    "import matplotlib.pyplot as plt\n",
    "import seaborn as sns\n",
    "pd.set_option('display.max_columns', None)\n",
    "\n",
    "from sklearn import linear_model\n",
    "from sklearn.linear_model import LogisticRegression\n",
    "from sklearn.tree import DecisionTreeClassifier\n",
    "from sklearn.ensemble import RandomForestClassifier\n",
    "from sklearn import neighbors\n",
    "\n",
    "from sklearn.metrics import confusion_matrix\n",
    "from sklearn.metrics import f1_score\n",
    "from sklearn.metrics import recall_score\n",
    "from sklearn.metrics import precision_score\n",
    "from sklearn.model_selection import cross_val_score"
   ]
  },
  {
   "cell_type": "code",
   "execution_count": 2,
   "id": "61c0bdbc",
   "metadata": {},
   "outputs": [],
   "source": [
    "numerical = pd.read_csv('files_for_lab/numerical.csv')\n",
    "categorical = pd.read_csv('files_for_lab/categorical.csv')\n",
    "target = pd.read_csv('files_for_lab/target.csv')"
   ]
  },
  {
   "cell_type": "markdown",
   "id": "4df281b3",
   "metadata": {},
   "source": [
    "# Preprocessing"
   ]
  },
  {
   "cell_type": "markdown",
   "id": "fc9d234b",
   "metadata": {},
   "source": [
    "#### X-y Split"
   ]
  },
  {
   "cell_type": "code",
   "execution_count": 3,
   "id": "2934488f",
   "metadata": {},
   "outputs": [],
   "source": [
    "X = pd.concat([numerical,categorical], axis = 1)"
   ]
  },
  {
   "cell_type": "code",
   "execution_count": 4,
   "id": "6b5bcaa3",
   "metadata": {},
   "outputs": [],
   "source": [
    "from sklearn.model_selection import train_test_split\n",
    "X_train, X_test, y_train, y_test = train_test_split(X, target.drop('TARGET_D', axis = 1), test_size=0.2)"
   ]
  },
  {
   "cell_type": "markdown",
   "id": "0ab6e68e",
   "metadata": {},
   "source": [
    "#### Num-Cat Split"
   ]
  },
  {
   "cell_type": "code",
   "execution_count": 5,
   "id": "780800ec",
   "metadata": {},
   "outputs": [],
   "source": [
    "train_num  = X_train.select_dtypes(include = np.number)\n",
    "train_cat = X_train.select_dtypes(include = object)\n",
    "\n",
    "test_num  = X_test.select_dtypes(include = np.number)\n",
    "test_cat = X_test.select_dtypes(include = object)"
   ]
  },
  {
   "cell_type": "markdown",
   "id": "d669c751",
   "metadata": {},
   "source": [
    "#### Scaling"
   ]
  },
  {
   "cell_type": "code",
   "execution_count": 6,
   "id": "2d725478",
   "metadata": {},
   "outputs": [],
   "source": [
    "from sklearn.preprocessing import MinMaxScaler\n",
    "# Fitting scaler\n",
    "transformer = MinMaxScaler().fit(train_num)\n",
    "# Scaling train and test data\n",
    "train_num_scaled = pd.DataFrame(transformer.transform(train_num), columns = train_num.columns, index = train_num.index)\n",
    "test_num_scaled = pd.DataFrame(transformer.transform(test_num), columns = test_num.columns, index = test_num.index)"
   ]
  },
  {
   "cell_type": "markdown",
   "id": "61a557c9",
   "metadata": {},
   "source": [
    "#### Encoding"
   ]
  },
  {
   "cell_type": "code",
   "execution_count": 7,
   "id": "3111048c",
   "metadata": {},
   "outputs": [],
   "source": [
    "from sklearn.preprocessing import OneHotEncoder\n",
    "# Fit encoder\n",
    "encoder = OneHotEncoder(handle_unknown='ignore').fit(train_cat)\n",
    "# Getting the column names for the later selection\n",
    "column_name = encoder.get_feature_names_out(train_cat.columns)\n",
    "# Encode train and test\n",
    "train_encoded = pd.DataFrame(encoder.transform(train_cat).toarray(),columns = column_name, index=train_cat.index)\n",
    "test_encoded = pd.DataFrame(encoder.transform(test_cat).toarray(),columns = column_name, index=test_cat.index)"
   ]
  },
  {
   "cell_type": "markdown",
   "id": "ef1c04bd",
   "metadata": {},
   "source": [
    "# Apply the Random Forests algorithm but this time only by upscaling the data to deal with the imbalance."
   ]
  },
  {
   "cell_type": "markdown",
   "id": "05bf52a9",
   "metadata": {},
   "source": [
    "## Oversampling"
   ]
  },
  {
   "cell_type": "markdown",
   "id": "63d25360",
   "metadata": {},
   "source": [
    "#### Concatenating"
   ]
  },
  {
   "cell_type": "code",
   "execution_count": 8,
   "id": "56e2debb",
   "metadata": {},
   "outputs": [],
   "source": [
    "train_all = pd.concat([train_encoded, train_num_scaled, y_train['TARGET_B']], axis = 1)\n",
    "X_test = pd.concat([test_encoded,test_num_scaled], axis = 1)"
   ]
  },
  {
   "cell_type": "markdown",
   "id": "8fa7642d",
   "metadata": {},
   "source": [
    "#### Upscaling"
   ]
  },
  {
   "cell_type": "code",
   "execution_count": 9,
   "id": "d2d09995",
   "metadata": {},
   "outputs": [],
   "source": [
    "from sklearn.utils import resample\n",
    "# Splitting into majority and minority class, the 'yes' donors are the minority class.\n",
    "no = train_all[train_all['TARGET_B']==0]\n",
    "yes = train_all[train_all['TARGET_B']==1]"
   ]
  },
  {
   "cell_type": "code",
   "execution_count": 10,
   "id": "eae43b5b",
   "metadata": {},
   "outputs": [],
   "source": [
    "# oversample minority\n",
    "yes_oversampled = resample(yes, #<- sample from here\n",
    "                                    replace=True, #<- we need replacement, since we don't have enough data otherwise\n",
    "                                    n_samples = len(no),#<- make both sets the same size\n",
    "                                    )"
   ]
  },
  {
   "cell_type": "code",
   "execution_count": 11,
   "id": "a75b2c27",
   "metadata": {},
   "outputs": [],
   "source": [
    "# Concatenate with majority class\n",
    "train_oversampled = pd.concat([no,yes_oversampled],axis=0)"
   ]
  },
  {
   "cell_type": "code",
   "execution_count": 12,
   "id": "412b502e",
   "metadata": {},
   "outputs": [],
   "source": [
    "# X-y Split again\n",
    "X_train_over = train_oversampled.drop('TARGET_B', axis = 1)\n",
    "y_train_over = train_oversampled['TARGET_B']"
   ]
  },
  {
   "cell_type": "markdown",
   "id": "86afb0d5",
   "metadata": {},
   "source": [
    "## Random Forest"
   ]
  },
  {
   "cell_type": "code",
   "execution_count": 13,
   "id": "aabb4d63",
   "metadata": {},
   "outputs": [],
   "source": [
    "from sklearn.ensemble import RandomForestClassifier\n",
    "from sklearn.metrics import confusion_matrix"
   ]
  },
  {
   "cell_type": "code",
   "execution_count": 14,
   "id": "823f55da",
   "metadata": {},
   "outputs": [],
   "source": [
    "# Defining the classifier\n",
    "clf = RandomForestClassifier(max_depth=5)"
   ]
  },
  {
   "cell_type": "code",
   "execution_count": 15,
   "id": "5b0b753a",
   "metadata": {},
   "outputs": [],
   "source": [
    "def model_eval(model,X_train,y_train,X_test, y_test):\n",
    "        # Fitting\n",
    "        model.fit(X_train, y_train)\n",
    "        # Predicting\n",
    "        predictions = model.predict(X_test)\n",
    "        # Calculating confusion matrix\n",
    "        cm = confusion_matrix(y_test, predictions)\n",
    "        # Printing different evaluation metrics\n",
    "        print( str(model.base_estimator_)[:-2] + \" score: \", model.score(X_test, y_test))\n",
    "        print( str(model.base_estimator_)[:-2] + \" precision: \",precision_score(y_test,predictions))\n",
    "        print( str(model.base_estimator_)[:-2] + \" recall: \",recall_score(y_test,predictions))\n",
    "        print( str(model.base_estimator_)[:-2] + \" f1: \",f1_score(y_test,predictions))\n",
    "        print('\\n')\n",
    "        print(cm)\n",
    "        return model"
   ]
  },
  {
   "cell_type": "code",
   "execution_count": 16,
   "id": "ddb0dbf9",
   "metadata": {},
   "outputs": [
    {
     "name": "stdout",
     "output_type": "stream",
     "text": [
      "DecisionTreeClassifier score:  0.5955562542577163\n",
      "DecisionTreeClassifier precision:  0.06565334014561247\n",
      "DecisionTreeClassifier recall:  0.5605234460196292\n",
      "DecisionTreeClassifier f1:  0.11753944660416192\n",
      "\n",
      "\n",
      "[[10851  7315]\n",
      " [  403   514]]\n"
     ]
    },
    {
     "data": {
      "text/plain": [
       "RandomForestClassifier(max_depth=5)"
      ]
     },
     "execution_count": 16,
     "metadata": {},
     "output_type": "execute_result"
    }
   ],
   "source": [
    "model_eval(clf,X_train_over,y_train_over,X_test, y_test)"
   ]
  },
  {
   "cell_type": "markdown",
   "id": "bb104dcd",
   "metadata": {},
   "source": [
    "# Use Feature Selections that you have learned in class to decide if you want to use all of the features\n",
    "(Variance Threshold, RFE, PCA, etc.)"
   ]
  },
  {
   "cell_type": "markdown",
   "id": "447bb420",
   "metadata": {},
   "source": [
    "## Variance Threshhold"
   ]
  },
  {
   "cell_type": "code",
   "execution_count": 17,
   "id": "95a7df85",
   "metadata": {},
   "outputs": [],
   "source": [
    "from sklearn.feature_selection import VarianceThreshold \n",
    "# set threshhold\n",
    "sel = VarianceThreshold(threshold= 0.02)"
   ]
  },
  {
   "cell_type": "code",
   "execution_count": 18,
   "id": "7238f942",
   "metadata": {},
   "outputs": [],
   "source": [
    "# Fitting with our numericals\n",
    "sel = sel.fit(train_num_scaled)"
   ]
  },
  {
   "cell_type": "code",
   "execution_count": 19,
   "id": "255df9b4",
   "metadata": {},
   "outputs": [
    {
     "name": "stdout",
     "output_type": "stream",
     "text": [
      "['TCODE', 'HIT', 'MALEMILI', 'MALEVET', 'LOCALGOV', 'STATEGOV', 'FEDGOV', 'POP901', 'POP902', 'POP903', 'POP90C4', 'POP90C5', 'ETH3', 'ETH4', 'ETH5', 'ETH6', 'ETH7', 'ETH8', 'ETH9', 'ETH10', 'ETH11', 'ETH12', 'ETH13', 'ETH14', 'ETH15', 'ETH16', 'AGE901', 'AGE902', 'AGE903', 'AGE904', 'AGE905', 'AGE906', 'AGE907', 'CHIL1', 'CHIL2', 'CHIL3', 'AGEC1', 'AGEC2', 'AGEC3', 'AGEC4', 'AGEC5', 'AGEC6', 'AGEC7', 'CHILC1', 'CHILC2', 'CHILC3', 'CHILC4', 'CHILC5', 'HHAGE1', 'HHAGE2', 'HHAGE3', 'HHN1', 'HHN2', 'HHN4', 'HHN5', 'HHN6', 'MARR1', 'MARR2', 'MARR3', 'MARR4', 'HHP1', 'HHP2', 'DW3', 'DW7', 'DW8', 'DW9', 'HU3', 'HU4', 'HHD1', 'HHD4', 'HHD6', 'HHD7', 'HHD8', 'HHD9', 'HHD10', 'HHD11', 'HHD12', 'ETHC1', 'ETHC3', 'ETHC4', 'ETHC5', 'ETHC6', 'HUR1', 'RHP1', 'RHP2', 'RHP3', 'RHP4', 'HUPA1', 'HUPA4', 'HUPA5', 'HUPA7', 'DMA', 'IC1', 'IC2', 'IC3', 'IC4', 'IC5', 'IC7', 'IC8', 'IC9', 'IC10', 'IC11', 'IC12', 'IC13', 'IC14', 'IC15', 'IC16', 'IC17', 'IC18', 'IC19', 'IC20', 'IC21', 'IC22', 'IC23', 'HHAS1', 'HHAS2', 'HHAS4', 'MC3', 'TPE1', 'TPE2', 'TPE3', 'TPE4', 'TPE5', 'TPE6', 'TPE7', 'TPE8', 'TPE9', 'PEC1', 'TPE10', 'TPE11', 'TPE12', 'LFC1', 'LFC3', 'LFC5', 'LFC10', 'OCC1', 'OCC2', 'OCC3', 'OCC4', 'OCC5', 'OCC6', 'OCC7', 'OCC8', 'OCC9', 'OCC10', 'OCC11', 'OCC12', 'OCC13', 'EIC1', 'EIC2', 'EIC3', 'EIC4', 'EIC5', 'EIC6', 'EIC7', 'EIC8', 'EIC9', 'EIC10', 'EIC11', 'EIC12', 'EIC13', 'EIC14', 'EIC15', 'EIC16', 'OEDC1', 'OEDC2', 'OEDC3', 'OEDC4', 'OEDC5', 'OEDC6', 'OEDC7', 'EC1', 'EC2', 'EC3', 'EC4', 'EC5', 'EC6', 'EC7', 'EC8', 'SEC1', 'SEC2', 'SEC3', 'SEC4', 'SEC5', 'AFC1', 'AFC2', 'AFC3', 'AFC4', 'AFC5', 'AFC6', 'VC2', 'VC4', 'ANC1', 'ANC2', 'ANC3', 'ANC4', 'ANC5', 'ANC6', 'ANC7', 'ANC8', 'ANC9', 'ANC10', 'ANC11', 'ANC12', 'ANC13', 'ANC14', 'ANC15', 'POBC1', 'LSC2', 'LSC3', 'LSC4', 'VOC1', 'VOC3', 'HC1', 'HC3', 'HC9', 'HC10', 'HC12', 'HC14', 'HC15', 'HC16', 'HC20', 'HC21', 'AC1', 'AC2', 'NUMPROM', 'CARDPM12', 'NUMPRM12', 'RAMNTALL', 'NGIFTALL', 'CARDGIFT', 'MINRAMNT', 'MAXRAMNT', 'LASTGIFT', 'TIMELAG', 'AVGGIFT', 'ODATEW_MM', 'MINRDATE_YR', 'MAXRDATE_YR', 'FIRSTDATE_YR']\n"
     ]
    },
    {
     "data": {
      "text/plain": [
       "240"
      ]
     },
     "execution_count": 19,
     "metadata": {},
     "output_type": "execute_result"
    }
   ],
   "source": [
    "# Check wich columns have low variance\n",
    "sel.get_support()\n",
    "# Making it a list\n",
    "var_list = list(sel.get_support())\n",
    "# Creating a droplist\n",
    "droplist_var = [col[0] for col in zip(train_num_scaled.columns, var_list) if col[1] == False]\n",
    "print(droplist_var)\n",
    "len(droplist_var)"
   ]
  },
  {
   "cell_type": "code",
   "execution_count": 20,
   "id": "8d6c5821",
   "metadata": {},
   "outputs": [
    {
     "name": "stdout",
     "output_type": "stream",
     "text": [
      "DecisionTreeClassifier score:  0.6052507467379343\n",
      "DecisionTreeClassifier precision:  0.06724228152799581\n",
      "DecisionTreeClassifier recall:  0.5605234460196292\n",
      "DecisionTreeClassifier f1:  0.12007942997313398\n",
      "\n",
      "\n",
      "[[11036  7130]\n",
      " [  403   514]]\n"
     ]
    },
    {
     "data": {
      "text/plain": [
       "RandomForestClassifier(max_depth=5)"
      ]
     },
     "execution_count": 20,
     "metadata": {},
     "output_type": "execute_result"
    }
   ],
   "source": [
    "# Trying our model without the low variance columns:\n",
    "model_eval(clf,X_train_over.drop(droplist_var, axis = 1),y_train_over,X_test.drop(droplist_var, axis = 1), y_test)"
   ]
  },
  {
   "cell_type": "markdown",
   "id": "8b9b3156",
   "metadata": {},
   "source": [
    "#### Conclusion\n",
    "\n",
    "The removal of the low variance columns did not make much of a difference. The results got marginally better."
   ]
  },
  {
   "cell_type": "markdown",
   "id": "2fd9df4f",
   "metadata": {},
   "source": [
    "## Recursive feature elimination"
   ]
  },
  {
   "cell_type": "markdown",
   "id": "c087ac0c",
   "metadata": {},
   "source": [
    "We will continue to work without the columns we eliminated with VT, because this will considerably speed up our RFE process."
   ]
  },
  {
   "cell_type": "code",
   "execution_count": 21,
   "id": "8d408dd2",
   "metadata": {},
   "outputs": [],
   "source": [
    "# %%time\n",
    "\n",
    "# from sklearn.feature_selection import RFE\n",
    "# from sklearn import linear_model\n",
    "# # Creating RFE model with Randomforest as Estimator\n",
    "# rfe = RFE(clf, n_features_to_select=20, verbose=False)\n",
    "\n",
    "# # Fitting\n",
    "# rfe.fit(train_all.drop(droplist_var, axis = 1), y_train.values.ravel())"
   ]
  },
  {
   "cell_type": "code",
   "execution_count": 22,
   "id": "cc71b2f5",
   "metadata": {},
   "outputs": [],
   "source": [
    "# Saving to not rerun:\n",
    "import pickle\n",
    "# pickle.dump(rfe, open('rfe.p', 'wb'))"
   ]
  },
  {
   "cell_type": "code",
   "execution_count": 23,
   "id": "be4f4205",
   "metadata": {},
   "outputs": [],
   "source": [
    "rfe_l = pickle.load(open('rfe.p','rb'))"
   ]
  },
  {
   "cell_type": "code",
   "execution_count": 24,
   "id": "dc979aa6",
   "metadata": {},
   "outputs": [
    {
     "data": {
      "text/plain": [
       "RFE(estimator=RandomForestClassifier(max_depth=5), n_features_to_select=20,\n",
       "    verbose=False)"
      ]
     },
     "execution_count": 24,
     "metadata": {},
     "output_type": "execute_result"
    }
   ],
   "source": [
    "rfe_l"
   ]
  },
  {
   "cell_type": "code",
   "execution_count": 25,
   "id": "1e1b7349",
   "metadata": {},
   "outputs": [
    {
     "data": {
      "text/html": [
       "<div>\n",
       "<style scoped>\n",
       "    .dataframe tbody tr th:only-of-type {\n",
       "        vertical-align: middle;\n",
       "    }\n",
       "\n",
       "    .dataframe tbody tr th {\n",
       "        vertical-align: top;\n",
       "    }\n",
       "\n",
       "    .dataframe thead th {\n",
       "        text-align: right;\n",
       "    }\n",
       "</style>\n",
       "<table border=\"1\" class=\"dataframe\">\n",
       "  <thead>\n",
       "    <tr style=\"text-align: right;\">\n",
       "      <th></th>\n",
       "      <th>Rank</th>\n",
       "      <th>Column_name</th>\n",
       "    </tr>\n",
       "  </thead>\n",
       "  <tbody>\n",
       "    <tr>\n",
       "      <th>0</th>\n",
       "      <td>103</td>\n",
       "      <td>STATE_CA</td>\n",
       "    </tr>\n",
       "    <tr>\n",
       "      <th>1</th>\n",
       "      <td>102</td>\n",
       "      <td>STATE_FL</td>\n",
       "    </tr>\n",
       "    <tr>\n",
       "      <th>2</th>\n",
       "      <td>101</td>\n",
       "      <td>STATE_GA</td>\n",
       "    </tr>\n",
       "    <tr>\n",
       "      <th>23</th>\n",
       "      <td>100</td>\n",
       "      <td>GEOCODE2_B</td>\n",
       "    </tr>\n",
       "    <tr>\n",
       "      <th>4</th>\n",
       "      <td>99</td>\n",
       "      <td>STATE_IN</td>\n",
       "    </tr>\n",
       "    <tr>\n",
       "      <th>3</th>\n",
       "      <td>98</td>\n",
       "      <td>STATE_IL</td>\n",
       "    </tr>\n",
       "    <tr>\n",
       "      <th>14</th>\n",
       "      <td>97</td>\n",
       "      <td>GENDER_F</td>\n",
       "    </tr>\n",
       "    <tr>\n",
       "      <th>6</th>\n",
       "      <td>96</td>\n",
       "      <td>STATE_MO</td>\n",
       "    </tr>\n",
       "    <tr>\n",
       "      <th>25</th>\n",
       "      <td>95</td>\n",
       "      <td>GEOCODE2_D</td>\n",
       "    </tr>\n",
       "    <tr>\n",
       "      <th>17</th>\n",
       "      <td>94</td>\n",
       "      <td>RFA_2R_L</td>\n",
       "    </tr>\n",
       "    <tr>\n",
       "      <th>5</th>\n",
       "      <td>93</td>\n",
       "      <td>STATE_MI</td>\n",
       "    </tr>\n",
       "    <tr>\n",
       "      <th>30</th>\n",
       "      <td>92</td>\n",
       "      <td>DOMAIN_A_U</td>\n",
       "    </tr>\n",
       "    <tr>\n",
       "      <th>28</th>\n",
       "      <td>91</td>\n",
       "      <td>DOMAIN_A_S</td>\n",
       "    </tr>\n",
       "    <tr>\n",
       "      <th>8</th>\n",
       "      <td>90</td>\n",
       "      <td>STATE_TX</td>\n",
       "    </tr>\n",
       "    <tr>\n",
       "      <th>7</th>\n",
       "      <td>89</td>\n",
       "      <td>STATE_NC</td>\n",
       "    </tr>\n",
       "    <tr>\n",
       "      <th>24</th>\n",
       "      <td>88</td>\n",
       "      <td>GEOCODE2_C</td>\n",
       "    </tr>\n",
       "    <tr>\n",
       "      <th>107</th>\n",
       "      <td>87</td>\n",
       "      <td>HPHONE_D</td>\n",
       "    </tr>\n",
       "    <tr>\n",
       "      <th>11</th>\n",
       "      <td>86</td>\n",
       "      <td>STATE_other</td>\n",
       "    </tr>\n",
       "    <tr>\n",
       "      <th>27</th>\n",
       "      <td>85</td>\n",
       "      <td>DOMAIN_A_R</td>\n",
       "    </tr>\n",
       "    <tr>\n",
       "      <th>22</th>\n",
       "      <td>84</td>\n",
       "      <td>GEOCODE2_A</td>\n",
       "    </tr>\n",
       "  </tbody>\n",
       "</table>\n",
       "</div>"
      ],
      "text/plain": [
       "     Rank  Column_name\n",
       "0     103     STATE_CA\n",
       "1     102     STATE_FL\n",
       "2     101     STATE_GA\n",
       "23    100   GEOCODE2_B\n",
       "4      99     STATE_IN\n",
       "3      98     STATE_IL\n",
       "14     97     GENDER_F\n",
       "6      96     STATE_MO\n",
       "25     95   GEOCODE2_D\n",
       "17     94     RFA_2R_L\n",
       "5      93     STATE_MI\n",
       "30     92   DOMAIN_A_U\n",
       "28     91   DOMAIN_A_S\n",
       "8      90     STATE_TX\n",
       "7      89     STATE_NC\n",
       "24     88   GEOCODE2_C\n",
       "107    87     HPHONE_D\n",
       "11     86  STATE_other\n",
       "27     85   DOMAIN_A_R\n",
       "22     84   GEOCODE2_A"
      ]
     },
     "execution_count": 25,
     "metadata": {},
     "output_type": "execute_result"
    }
   ],
   "source": [
    "# Checking Ranking of columns\n",
    "df = pd.DataFrame(data = rfe_l.ranking_, columns=['Rank'])\n",
    "df['Column_name'] = pd.DataFrame(train_all.drop(droplist_var, axis = 1)).columns\n",
    "df = df[df['Column_name'] != 'TARGET_B']\n",
    "df.sort_values(by = ['Rank'], ascending = False).head(20)"
   ]
  },
  {
   "cell_type": "code",
   "execution_count": 26,
   "id": "6dc5bdc3",
   "metadata": {},
   "outputs": [
    {
     "name": "stdout",
     "output_type": "stream",
     "text": [
      "\n",
      "\n",
      "\n",
      " Testing with columns ranking higher than 1\n",
      "DecisionTreeClassifier score:  0.601582560394068\n",
      "DecisionTreeClassifier precision:  0.0668566986265872\n",
      "DecisionTreeClassifier recall:  0.5627044711014176\n",
      "DecisionTreeClassifier f1:  0.1195136074116966\n",
      "\n",
      "\n",
      "[[10964  7202]\n",
      " [  401   516]]\n",
      "\n",
      "\n",
      "\n",
      " Testing with columns ranking higher than 5\n",
      "DecisionTreeClassifier score:  0.5969187234711524\n",
      "DecisionTreeClassifier precision:  0.056319580877537655\n",
      "DecisionTreeClassifier recall:  0.46892039258451473\n",
      "DecisionTreeClassifier f1:  0.10056127221702525\n",
      "\n",
      "\n",
      "[[10961  7205]\n",
      " [  487   430]]\n",
      "\n",
      "\n",
      "\n",
      " Testing with columns ranking higher than 9\n",
      "DecisionTreeClassifier score:  0.5948750196509983\n",
      "DecisionTreeClassifier precision:  0.05833549390718175\n",
      "DecisionTreeClassifier recall:  0.49073064340239914\n",
      "DecisionTreeClassifier f1:  0.10427528675703858\n",
      "\n",
      "\n",
      "[[10902  7264]\n",
      " [  467   450]]\n",
      "\n",
      "\n",
      "\n",
      " Testing with columns ranking higher than 13\n",
      "DecisionTreeClassifier score:  0.5793114290205943\n",
      "DecisionTreeClassifier precision:  0.0571677668451862\n",
      "DecisionTreeClassifier recall:  0.5005452562704471\n",
      "DecisionTreeClassifier f1:  0.10261569416498995\n",
      "\n",
      "\n",
      "[[10596  7570]\n",
      " [  458   459]]\n",
      "\n",
      "\n",
      "\n",
      " Testing with columns ranking higher than 17\n",
      "DecisionTreeClassifier score:  0.596604307498821\n",
      "DecisionTreeClassifier precision:  0.0565075212557227\n",
      "DecisionTreeClassifier recall:  0.47110141766630315\n",
      "DecisionTreeClassifier f1:  0.10091100210231255\n",
      "\n",
      "\n",
      "[[10953  7213]\n",
      " [  485   432]]\n"
     ]
    }
   ],
   "source": [
    "for r in range(1,20,4):\n",
    "    droplist_rfe = list(df[df['Rank'] < r]['Column_name'])\n",
    "    droplist_full = droplist_var\n",
    "    droplist_full.extend(droplist_rfe)\n",
    "    # Creating dataframes without the eliminated columns\n",
    "    temp_train = X_train_over.drop(droplist_full, axis = 1).copy()\n",
    "    temp_test = X_test.drop(droplist_full, axis = 1).copy()\n",
    "    \n",
    "    # Checking results:\n",
    "    print('\\n\\n\\n Testing with columns ranking higher than ' +str(r))\n",
    "    model_eval(clf,temp_train,y_train_over,temp_test, y_test)"
   ]
  },
  {
   "cell_type": "markdown",
   "id": "52368689",
   "metadata": {},
   "source": [
    "# Final model"
   ]
  },
  {
   "cell_type": "code",
   "execution_count": 27,
   "id": "97b3c31e",
   "metadata": {},
   "outputs": [],
   "source": [
    "final_model = clf.fit(temp_train, y_train_over)                     #model_eval(clf,temp_train,y_train_over,temp_test, y_test)"
   ]
  },
  {
   "cell_type": "markdown",
   "id": "241c59a9",
   "metadata": {},
   "source": [
    "# Predicting for our whole dataframe:"
   ]
  },
  {
   "cell_type": "markdown",
   "id": "c7eaefe3",
   "metadata": {},
   "source": [
    "#### Num-cat Split:"
   ]
  },
  {
   "cell_type": "code",
   "execution_count": null,
   "id": "2e5a57e4",
   "metadata": {},
   "outputs": [],
   "source": [
    "X =  "
   ]
  },
  {
   "cell_type": "code",
   "execution_count": 28,
   "id": "1aca1512",
   "metadata": {},
   "outputs": [],
   "source": [
    "numerical  = X.select_dtypes(include = np.number)\n",
    "categorical = X.select_dtypes(include = object)"
   ]
  },
  {
   "cell_type": "markdown",
   "id": "b55100f1",
   "metadata": {},
   "source": [
    "#### Scaling:"
   ]
  },
  {
   "cell_type": "code",
   "execution_count": 29,
   "id": "9989947f",
   "metadata": {},
   "outputs": [],
   "source": [
    "num_scaled = pd.DataFrame(transformer.transform(numerical), columns = train_num.columns, index = numerical.index)"
   ]
  },
  {
   "cell_type": "markdown",
   "id": "1acab85e",
   "metadata": {},
   "source": [
    "#### Encoding:"
   ]
  },
  {
   "cell_type": "code",
   "execution_count": 30,
   "id": "7ff98121",
   "metadata": {},
   "outputs": [],
   "source": [
    "encoded = pd.DataFrame(encoder.transform(categorical).toarray(),columns = column_name, index=categorical.index)"
   ]
  },
  {
   "cell_type": "markdown",
   "id": "ce67caa3",
   "metadata": {},
   "source": [
    "#### Concatenating:"
   ]
  },
  {
   "cell_type": "code",
   "execution_count": 31,
   "id": "1c59b19a",
   "metadata": {},
   "outputs": [],
   "source": [
    "X_all = pd.concat([encoded,num_scaled], axis = 1)"
   ]
  },
  {
   "cell_type": "markdown",
   "id": "31678314",
   "metadata": {},
   "source": [
    "#### Dropping columns:"
   ]
  },
  {
   "cell_type": "code",
   "execution_count": 32,
   "id": "a0b8cf55",
   "metadata": {},
   "outputs": [],
   "source": [
    "X_all_selected = X_all.drop(droplist_full,axis = 1)"
   ]
  },
  {
   "cell_type": "markdown",
   "id": "d4526d2e",
   "metadata": {},
   "source": [
    "#### Predicting:"
   ]
  },
  {
   "cell_type": "code",
   "execution_count": 33,
   "id": "35ec9cad",
   "metadata": {},
   "outputs": [],
   "source": [
    "X['predicted_donate'] = clf.predict(X_all_selected)"
   ]
  },
  {
   "cell_type": "code",
   "execution_count": 34,
   "id": "1ada2303",
   "metadata": {},
   "outputs": [
    {
     "data": {
      "text/plain": [
       "array([1, 0, 0, ..., 0, 1, 1], dtype=int64)"
      ]
     },
     "execution_count": 34,
     "metadata": {},
     "output_type": "execute_result"
    }
   ],
   "source": [
    "clf.predict(X_all_selected)"
   ]
  },
  {
   "cell_type": "markdown",
   "id": "52983826",
   "metadata": {},
   "source": [
    "#### Evaluating:"
   ]
  },
  {
   "cell_type": "code",
   "execution_count": 35,
   "id": "d504cbfa",
   "metadata": {},
   "outputs": [
    {
     "name": "stdout",
     "output_type": "stream",
     "text": [
      "DecisionTreeClassifier score:  0.6051230453192471\n",
      "DecisionTreeClassifier precision:  0.07196307981122728\n",
      "DecisionTreeClassifier recall:  0.5698946933718769\n",
      "DecisionTreeClassifier f1:  0.12778961014908788\n"
     ]
    },
    {
     "data": {
      "text/plain": [
       "array([[54976, 35593],\n",
       "       [ 2083,  2760]], dtype=int64)"
      ]
     },
     "execution_count": 35,
     "metadata": {},
     "output_type": "execute_result"
    }
   ],
   "source": [
    "predictions = clf.predict(X_all_selected)\n",
    "# Calculating confusion matrix\n",
    "cm = confusion_matrix(target['TARGET_B'], predictions)\n",
    "# Printing different evaluation metrics\n",
    "print( str(clf.base_estimator_)[:-2] + \" score: \", clf.score(X_all_selected, target['TARGET_B']))\n",
    "print( str(clf.base_estimator_)[:-2] + \" precision: \",precision_score(target['TARGET_B'],predictions))\n",
    "print( str(clf.base_estimator_)[:-2] + \" recall: \",recall_score(target['TARGET_B'],predictions))\n",
    "print( str(clf.base_estimator_)[:-2] + \" f1: \",f1_score(target['TARGET_B'],predictions))\n",
    "cm"
   ]
  },
  {
   "cell_type": "code",
   "execution_count": null,
   "id": "9a557a4d",
   "metadata": {},
   "outputs": [],
   "source": []
  },
  {
   "cell_type": "code",
   "execution_count": 36,
   "id": "734a2730",
   "metadata": {},
   "outputs": [],
   "source": [
    "df_all = pd.concat([X,target], axis = 1)"
   ]
  },
  {
   "cell_type": "markdown",
   "id": "db271a68",
   "metadata": {},
   "source": [
    "# Lab | Case Regression"
   ]
  },
  {
   "cell_type": "markdown",
   "id": "b5837eda",
   "metadata": {},
   "source": [
    "## Only look at people who have donated (Target B = 1)"
   ]
  },
  {
   "cell_type": "code",
   "execution_count": 37,
   "id": "c083e6c0",
   "metadata": {},
   "outputs": [],
   "source": [
    "# Dataframe for building the model\n",
    "df_regr_build = df_all[df_all['TARGET_B']==1]\n",
    "# Dataframe for making predictions\n",
    "df_regr_pred = df_all[df_all['predicted_donate']==1]"
   ]
  },
  {
   "cell_type": "markdown",
   "id": "eecae4f7",
   "metadata": {},
   "source": [
    "## Preprocessing"
   ]
  },
  {
   "cell_type": "markdown",
   "id": "cf5e4d31",
   "metadata": {},
   "source": [
    "#### X-y Split"
   ]
  },
  {
   "cell_type": "code",
   "execution_count": 38,
   "id": "e71ff71d",
   "metadata": {},
   "outputs": [],
   "source": [
    "X = df_regr_build.drop(['TARGET_D', 'TARGET_B', 'predicted_donate'], axis = 1)\n",
    "y = df_regr_build['TARGET_D']"
   ]
  },
  {
   "cell_type": "markdown",
   "id": "1e97605c",
   "metadata": {},
   "source": [
    "#### Train-Test Split"
   ]
  },
  {
   "cell_type": "code",
   "execution_count": 39,
   "id": "7fe04bf1",
   "metadata": {},
   "outputs": [],
   "source": [
    "from sklearn.model_selection import train_test_split\n",
    "X_train, X_test, y_train, y_test = train_test_split(X, y, test_size=0.2)"
   ]
  },
  {
   "cell_type": "markdown",
   "id": "00a28a34",
   "metadata": {},
   "source": [
    "#### Num-Cat Split"
   ]
  },
  {
   "cell_type": "code",
   "execution_count": 40,
   "id": "67dc1205",
   "metadata": {},
   "outputs": [],
   "source": [
    "train_num  = X_train.select_dtypes(include = np.number)\n",
    "train_cat = X_train.select_dtypes(include = object)\n",
    "\n",
    "test_num  = X_test.select_dtypes(include = np.number)\n",
    "test_cat = X_test.select_dtypes(include = object)"
   ]
  },
  {
   "cell_type": "markdown",
   "id": "4c5e5a72",
   "metadata": {},
   "source": [
    "#### Scaling"
   ]
  },
  {
   "cell_type": "code",
   "execution_count": 41,
   "id": "98413523",
   "metadata": {},
   "outputs": [],
   "source": [
    "from sklearn.preprocessing import MinMaxScaler\n",
    "# Fitting scaler\n",
    "transformer = MinMaxScaler().fit(train_num)\n",
    "# Scaling train and test data\n",
    "train_num_scaled = pd.DataFrame(transformer.transform(train_num), columns = train_num.columns, index = train_num.index)\n",
    "test_num_scaled = pd.DataFrame(transformer.transform(test_num), columns = test_num.columns, index = test_num.index)"
   ]
  },
  {
   "cell_type": "markdown",
   "id": "57872e2d",
   "metadata": {},
   "source": [
    "#### Encoding"
   ]
  },
  {
   "cell_type": "code",
   "execution_count": 42,
   "id": "52cac458",
   "metadata": {},
   "outputs": [],
   "source": [
    "from sklearn.preprocessing import OneHotEncoder\n",
    "# Fit encoder\n",
    "encoder = OneHotEncoder(handle_unknown='ignore').fit(train_cat)\n",
    "# Getting the column names for the later selection\n",
    "column_name = encoder.get_feature_names_out(train_cat.columns)\n",
    "# Encode train and test\n",
    "train_encoded = pd.DataFrame(encoder.transform(train_cat).toarray(),columns = column_name, index=train_cat.index)\n",
    "test_encoded = pd.DataFrame(encoder.transform(test_cat).toarray(),columns = column_name, index=test_cat.index)"
   ]
  },
  {
   "cell_type": "markdown",
   "id": "a85b2d73",
   "metadata": {},
   "source": [
    "#### Concatenating"
   ]
  },
  {
   "cell_type": "code",
   "execution_count": 43,
   "id": "666e717b",
   "metadata": {},
   "outputs": [],
   "source": [
    "train_encoded = pd.concat([train_encoded,train_num_scaled], axis = 1)\n",
    "test_encoded = pd.concat([test_encoded,test_num_scaled], axis = 1)"
   ]
  },
  {
   "cell_type": "markdown",
   "id": "9a34830c",
   "metadata": {},
   "source": [
    "## First model"
   ]
  },
  {
   "cell_type": "code",
   "execution_count": 44,
   "id": "af80f8c9",
   "metadata": {},
   "outputs": [],
   "source": [
    "from sklearn.ensemble import RandomForestRegressor\n",
    "from sklearn.metrics import r2_score, mean_absolute_error, mean_squared_error"
   ]
  },
  {
   "cell_type": "code",
   "execution_count": 45,
   "id": "e730655b",
   "metadata": {},
   "outputs": [],
   "source": [
    "def model_eval_regression(model,X_train,y_train,X_test, y_test):\n",
    "        # Fitting\n",
    "        model.fit(X_train, y_train)\n",
    "        # Predicting\n",
    "        predictions = model.predict(X_test)\n",
    "        # Printing different evaluation metrics\n",
    "        print( str(model.base_estimator_)[:-2] + \" R2-score: \", r2_score(y_test, predictions))\n",
    "        print( str(model.base_estimator_)[:-2] + \" MSE: \",mean_squared_error(y_test,predictions))\n",
    "        print( str(model.base_estimator_)[:-2] + \" RMSE: \",np.sqrt(mean_squared_error(y_test,predictions)))\n",
    "        print( str(model.base_estimator_)[:-2] + \" MAE: \",mean_absolute_error(y_test, predictions))\n",
    "        print('\\n')\n",
    "        return model"
   ]
  },
  {
   "cell_type": "code",
   "execution_count": 46,
   "id": "6692dcb4",
   "metadata": {},
   "outputs": [],
   "source": [
    "# Defining a model\n",
    "RfR = RandomForestRegressor(max_depth=5)"
   ]
  },
  {
   "cell_type": "code",
   "execution_count": 47,
   "id": "53b9a626",
   "metadata": {},
   "outputs": [
    {
     "name": "stdout",
     "output_type": "stream",
     "text": [
      "DecisionTreeRegressor R2-score:  0.4124597680953397\n",
      "DecisionTreeRegressor MSE:  113.88333468936163\n",
      "DecisionTreeRegressor RMSE:  10.67161349981162\n",
      "DecisionTreeRegressor MAE:  4.236842873212477\n",
      "\n",
      "\n"
     ]
    },
    {
     "data": {
      "text/plain": [
       "RandomForestRegressor(max_depth=5)"
      ]
     },
     "execution_count": 47,
     "metadata": {},
     "output_type": "execute_result"
    }
   ],
   "source": [
    "model_eval_regression(RfR,train_encoded,y_train,test_encoded, y_test)"
   ]
  },
  {
   "cell_type": "markdown",
   "id": "1c7015ca",
   "metadata": {},
   "source": [
    "## Feature Selection"
   ]
  },
  {
   "cell_type": "markdown",
   "id": "2068fdda",
   "metadata": {},
   "source": [
    "#### Variance threshhold"
   ]
  },
  {
   "cell_type": "code",
   "execution_count": 48,
   "id": "c7c24e18",
   "metadata": {},
   "outputs": [],
   "source": [
    "# Fitting\n",
    "sel_regr = VarianceThreshold(threshold= 0.01)\n",
    "sel_regr = sel_regr.fit(train_encoded)"
   ]
  },
  {
   "cell_type": "code",
   "execution_count": 49,
   "id": "ef898176",
   "metadata": {},
   "outputs": [
    {
     "name": "stdout",
     "output_type": "stream",
     "text": [
      "['RFA_2R_L', 'TCODE', 'HIT', 'MALEMILI', 'LOCALGOV', 'FEDGOV', 'POP901', 'POP902', 'POP903', 'POP90C4', 'POP90C5', 'ETH3', 'ETH4', 'ETH6', 'ETH7', 'ETH8', 'ETH9', 'ETH10', 'ETH11', 'ETH12', 'ETH14', 'ETH15', 'ETH16', 'AGE904', 'AGE905', 'AGE906', 'CHIL1', 'CHIL2', 'CHIL3', 'AGEC1', 'AGEC2', 'AGEC3', 'CHILC1', 'CHILC3', 'CHILC4', 'CHILC5', 'HHN2', 'HHN5', 'HHN6', 'MARR2', 'MARR4', 'HHP1', 'HHP2', 'DW3', 'DW7', 'DW8', 'DW9', 'HHD7', 'HHD9', 'HHD10', 'HHD12', 'ETHC1', 'ETHC4', 'ETHC6', 'HUR1', 'RHP3', 'RHP4', 'HUPA4', 'HUPA7', 'IC5', 'IC10', 'IC13', 'IC14', 'IC16', 'IC17', 'IC18', 'IC23', 'TPE2', 'TPE3', 'TPE4', 'TPE5', 'TPE6', 'TPE7', 'TPE8', 'TPE9', 'PEC1', 'TPE10', 'LFC10', 'OCC3', 'OCC4', 'OCC5', 'OCC6', 'OCC7', 'OCC9', 'OCC12', 'EIC1', 'EIC2', 'EIC3', 'EIC5', 'EIC7', 'EIC8', 'EIC9', 'EIC10', 'EIC11', 'EIC12', 'EIC13', 'EIC14', 'EIC15', 'OEDC3', 'OEDC4', 'OEDC6', 'OEDC7', 'EC2', 'SEC1', 'SEC5', 'AFC1', 'AFC2', 'AFC3', 'VC2', 'ANC1', 'ANC2', 'ANC3', 'ANC5', 'ANC6', 'ANC8', 'ANC9', 'ANC10', 'ANC11', 'ANC12', 'ANC13', 'ANC14', 'ANC15', 'LSC3', 'LSC4', 'HC3', 'HC9', 'HC15', 'HC20', 'HC21', 'AC2', 'CARDPM12', 'NUMPRM12', 'RAMNTALL', 'MINRAMNT', 'MAXRAMNT', 'LASTGIFT', 'TIMELAG', 'AVGGIFT', 'ODATEW_MM']\n"
     ]
    },
    {
     "data": {
      "text/plain": [
       "139"
      ]
     },
     "execution_count": 49,
     "metadata": {},
     "output_type": "execute_result"
    }
   ],
   "source": [
    "# Check wich columns have low variance\n",
    "sel_regr.get_support()\n",
    "# Making it a list\n",
    "var_list = list(sel_regr.get_support())\n",
    "# Creating a droplist\n",
    "droplist_var_regr = [col[0] for col in zip(train_encoded.columns, var_list) if col[1] == False]\n",
    "print(droplist_var_regr)\n",
    "len(droplist_var_regr)"
   ]
  },
  {
   "cell_type": "code",
   "execution_count": 50,
   "id": "69cf5aee",
   "metadata": {},
   "outputs": [
    {
     "name": "stdout",
     "output_type": "stream",
     "text": [
      "DecisionTreeRegressor R2-score:  0.20786414113165885\n",
      "DecisionTreeRegressor MSE:  153.5402483715987\n",
      "DecisionTreeRegressor RMSE:  12.391135878990218\n",
      "DecisionTreeRegressor MAE:  5.14428907450447\n",
      "\n",
      "\n"
     ]
    },
    {
     "data": {
      "text/plain": [
       "RandomForestRegressor(max_depth=5)"
      ]
     },
     "execution_count": 50,
     "metadata": {},
     "output_type": "execute_result"
    }
   ],
   "source": [
    "# Checking result:\n",
    "model_eval_regression(RfR, train_encoded.drop(droplist_var_regr, axis = 1), y_train, test_encoded.drop(droplist_var_regr, axis = 1), y_test)"
   ]
  },
  {
   "cell_type": "code",
   "execution_count": 51,
   "id": "a5b4e4a2",
   "metadata": {},
   "outputs": [],
   "source": [
    "# Continuing with this\n",
    "train_var = train_encoded.drop(droplist_var_regr, axis = 1).copy()\n",
    "test_var = test_encoded.drop(droplist_var_regr, axis = 1).copy()"
   ]
  },
  {
   "cell_type": "markdown",
   "id": "84020d13",
   "metadata": {},
   "source": [
    "## Hyperparameter search:"
   ]
  },
  {
   "cell_type": "code",
   "execution_count": 52,
   "id": "ba829195",
   "metadata": {},
   "outputs": [],
   "source": [
    "RfR = RandomForestRegressor()"
   ]
  },
  {
   "cell_type": "code",
   "execution_count": 53,
   "id": "3638b709",
   "metadata": {},
   "outputs": [],
   "source": [
    "\n",
    "\n",
    "max_depth_choices= [2,3,4,5,6,7,9,10,None]\n",
    "criterion_choices = ['squared_error']\n",
    "min_samples_split_choices = [1,2,5,20,50,100,200]\n",
    "min_samples_leaf_choices = [2,5,20,50,100,200]\n",
    "max_features_choices = [\"auto\", \"sqrt\", \"log2\", None, 10]\n",
    "\n",
    "\n",
    "\n",
    "grid = {'max_depth': max_depth_choices,\n",
    "               'criterion': criterion_choices,\n",
    "               'min_samples_split': min_samples_split_choices,\n",
    "               'min_samples_leaf': min_samples_leaf_choices,\n",
    "               'max_features': max_features_choices,\n",
    "               'bootstrap' : [True,False]}"
   ]
  },
  {
   "cell_type": "code",
   "execution_count": 54,
   "id": "be87090b",
   "metadata": {},
   "outputs": [],
   "source": [
    "# Grid search\n",
    "from sklearn.model_selection import GridSearchCV\n",
    "\n",
    "grid_search = GridSearchCV(estimator = RfR, param_grid = grid, cv = 6)"
   ]
  },
  {
   "cell_type": "code",
   "execution_count": 55,
   "id": "7e14c705",
   "metadata": {},
   "outputs": [],
   "source": [
    "# Fit the grid search to the data\n",
    "# grid_search.fit(train_var, y_train)"
   ]
  },
  {
   "cell_type": "code",
   "execution_count": 56,
   "id": "2d60473c",
   "metadata": {},
   "outputs": [],
   "source": [
    "# pickle.dump(grid_search, open('grid_search.p', 'wb'))"
   ]
  },
  {
   "cell_type": "code",
   "execution_count": 67,
   "id": "6b498839",
   "metadata": {},
   "outputs": [],
   "source": [
    "grid_search = pickle.load(open('grid_search.p','rb'))"
   ]
  },
  {
   "cell_type": "code",
   "execution_count": 68,
   "id": "4de53e93",
   "metadata": {},
   "outputs": [
    {
     "data": {
      "text/plain": [
       "{'min_samples_split': 50,\n",
       " 'min_samples_leaf': 50,\n",
       " 'max_features': None,\n",
       " 'max_depth': 6,\n",
       " 'criterion': 'squared_error',\n",
       " 'bootstrap': True}"
      ]
     },
     "execution_count": 68,
     "metadata": {},
     "output_type": "execute_result"
    }
   ],
   "source": [
    "grid_search.best_params_"
   ]
  },
  {
   "cell_type": "code",
   "execution_count": 69,
   "id": "1b7e8b98",
   "metadata": {},
   "outputs": [
    {
     "data": {
      "text/plain": [
       "0.3710766105247606"
      ]
     },
     "execution_count": 69,
     "metadata": {},
     "output_type": "execute_result"
    }
   ],
   "source": [
    "grid_search.best_score_"
   ]
  },
  {
   "cell_type": "markdown",
   "id": "5a0e5c8d",
   "metadata": {},
   "source": [
    "# Building final Model"
   ]
  },
  {
   "cell_type": "code",
   "execution_count": 70,
   "id": "89706783",
   "metadata": {},
   "outputs": [],
   "source": [
    "# Setting model with selected Hyperparameters\n",
    "RfR = RandomForestRegressor(min_samples_split= 50,\n",
    " min_samples_leaf = 50,\n",
    " max_features = None,\n",
    " max_depth = 6,\n",
    " criterion = 'squared_error',\n",
    " bootstrap = True)"
   ]
  },
  {
   "cell_type": "code",
   "execution_count": 71,
   "id": "ba3e9363",
   "metadata": {},
   "outputs": [
    {
     "name": "stdout",
     "output_type": "stream",
     "text": [
      "Wall time: 10.1 s\n"
     ]
    },
    {
     "data": {
      "text/plain": [
       "RandomForestRegressor(max_depth=6, max_features=None, min_samples_leaf=50,\n",
       "                      min_samples_split=50)"
      ]
     },
     "execution_count": 71,
     "metadata": {},
     "output_type": "execute_result"
    }
   ],
   "source": [
    "%%time\n",
    "# Training model\n",
    "RfR.fit(train_var, y_train)"
   ]
  },
  {
   "cell_type": "markdown",
   "id": "bd068942",
   "metadata": {},
   "source": [
    "# Making predictions"
   ]
  },
  {
   "cell_type": "markdown",
   "id": "d370e23f",
   "metadata": {},
   "source": [
    "#### Preprocessing whole dataframe:"
   ]
  },
  {
   "cell_type": "code",
   "execution_count": 99,
   "id": "2e8a9f87",
   "metadata": {},
   "outputs": [],
   "source": [
    "X = df_all[df_all['predicted_donate']==1].copy()\n",
    "X = X.drop(['TARGET_D', 'TARGET_B', 'predicted_donate'], axis = 1)"
   ]
  },
  {
   "cell_type": "code",
   "execution_count": 100,
   "id": "9d62b041",
   "metadata": {},
   "outputs": [],
   "source": [
    "X_num   X.select_dtypes(include = np.number)\n",
    "X_cat = X.select_dtypes(include = object)\n",
    "\n",
    "X_num_scaled = pd.DataFrame(transformer.transform(X_num), columns = X_num.columns, index = X_num.index)\n",
    "\n",
    "X_encoded = pd.DataFrame(encoder.transform(X_cat).toarray(),columns = column_name, index=X_cat.index)\n",
    "\n",
    "X_transformed = pd.concat([X_encoded, X_num_scaled], axis = 1)\n",
    "\n",
    "X_transformed.drop(droplist_var_regr, axis = 1, inplace = True)"
   ]
  },
  {
   "cell_type": "markdown",
   "id": "89323bc5",
   "metadata": {},
   "source": [
    "# Predicting:"
   ]
  },
  {
   "cell_type": "code",
   "execution_count": 101,
   "id": "c2645b18",
   "metadata": {},
   "outputs": [
    {
     "data": {
      "text/plain": [
       "array([ 9.96206477, 11.67516219,  9.87741309, ..., 17.94358869,\n",
       "       15.89336773, 27.07189034])"
      ]
     },
     "execution_count": 101,
     "metadata": {},
     "output_type": "execute_result"
    }
   ],
   "source": [
    "predictions_r = RfR.predict(X_transformed)\n",
    "predictions_r"
   ]
  },
  {
   "cell_type": "markdown",
   "id": "a00e0ce4",
   "metadata": {},
   "source": [
    "# Adding predictions to dataframe:"
   ]
  },
  {
   "cell_type": "code",
   "execution_count": 108,
   "id": "a48f1304",
   "metadata": {},
   "outputs": [],
   "source": [
    "df_all['Predicted_D']  = 0"
   ]
  },
  {
   "cell_type": "code",
   "execution_count": 109,
   "id": "8bbb61ad",
   "metadata": {},
   "outputs": [],
   "source": [
    "df_all.loc[df_all['predicted_donate']==1,'Predicted_D']  = predictions_r"
   ]
  },
  {
   "cell_type": "code",
   "execution_count": 112,
   "id": "d06616b7",
   "metadata": {},
   "outputs": [
    {
     "data": {
      "text/plain": [
       "0"
      ]
     },
     "execution_count": 112,
     "metadata": {},
     "output_type": "execute_result"
    }
   ],
   "source": [
    "df_all.isna().sum().sum()"
   ]
  },
  {
   "cell_type": "markdown",
   "id": "9c0a523d",
   "metadata": {},
   "source": [
    "# Conclusion:"
   ]
  },
  {
   "cell_type": "markdown",
   "id": "431b20af",
   "metadata": {},
   "source": [
    "#### Cost of mailing action:"
   ]
  },
  {
   "cell_type": "code",
   "execution_count": 113,
   "id": "ae9adc63",
   "metadata": {},
   "outputs": [
    {
     "data": {
      "text/plain": [
       "64880.16"
      ]
     },
     "execution_count": 113,
     "metadata": {},
     "output_type": "execute_result"
    }
   ],
   "source": [
    "# Old\n",
    "len(df_all)*0.68"
   ]
  },
  {
   "cell_type": "code",
   "execution_count": 114,
   "id": "ad8a165f",
   "metadata": {},
   "outputs": [
    {
     "data": {
      "text/plain": [
       "26080.04"
      ]
     },
     "execution_count": 114,
     "metadata": {},
     "output_type": "execute_result"
    }
   ],
   "source": [
    "# New\n",
    "len(df_all[df_all['predicted_donate']==1])*0.68"
   ]
  },
  {
   "cell_type": "markdown",
   "id": "c576e004",
   "metadata": {},
   "source": [
    "#### Revenue:"
   ]
  },
  {
   "cell_type": "code",
   "execution_count": 116,
   "id": "f0024d0d",
   "metadata": {},
   "outputs": [
    {
     "data": {
      "text/plain": [
       "75668.7"
      ]
     },
     "execution_count": 116,
     "metadata": {},
     "output_type": "execute_result"
    }
   ],
   "source": [
    "# Old\n",
    "df_all['TARGET_D'].sum()"
   ]
  },
  {
   "cell_type": "code",
   "execution_count": 117,
   "id": "bf9a35db",
   "metadata": {},
   "outputs": [
    {
     "data": {
      "text/plain": [
       "701082.725473102"
      ]
     },
     "execution_count": 117,
     "metadata": {},
     "output_type": "execute_result"
    }
   ],
   "source": [
    "# Predicted\n",
    "df_all['Predicted_D'].sum()"
   ]
  },
  {
   "cell_type": "markdown",
   "id": "30f05cab",
   "metadata": {},
   "source": [
    "#### Only considering true positives:"
   ]
  },
  {
   "cell_type": "code",
   "execution_count": 118,
   "id": "bd4c925e",
   "metadata": {},
   "outputs": [
    {
     "data": {
      "text/plain": [
       "43664.00090113023"
      ]
     },
     "execution_count": 118,
     "metadata": {},
     "output_type": "execute_result"
    }
   ],
   "source": [
    "df_all[ (df_all['predicted_donate']==1) & (df_all['TARGET_B']==1) ]['Predicted_D'].sum()"
   ]
  },
  {
   "cell_type": "markdown",
   "id": "b7844b1a",
   "metadata": {},
   "source": [
    "#### Result:"
   ]
  },
  {
   "cell_type": "markdown",
   "id": "646355d7",
   "metadata": {},
   "source": [
    "DecisionTreeClassifier score:  0.596604307498821\n",
    "DecisionTreeClassifier precision:  0.0565075212557227\n",
    "DecisionTreeClassifier recall:  0.47110141766630315\n",
    "DecisionTreeClassifier f1:  0.10091100210231255"
   ]
  },
  {
   "cell_type": "markdown",
   "id": "4e53ad43",
   "metadata": {},
   "source": [
    "DecisionTreeRegressor R2:  0.3710766105247606"
   ]
  },
  {
   "cell_type": "code",
   "execution_count": null,
   "id": "ec1a3976",
   "metadata": {},
   "outputs": [],
   "source": []
  },
  {
   "cell_type": "code",
   "execution_count": 120,
   "id": "2315be28",
   "metadata": {},
   "outputs": [
    {
     "data": {
      "text/plain": [
       "10788"
      ]
     },
     "execution_count": 120,
     "metadata": {},
     "output_type": "execute_result"
    }
   ],
   "source": [
    "# Old:\n",
    "75668 - 64880"
   ]
  },
  {
   "cell_type": "code",
   "execution_count": 122,
   "id": "d05845fd",
   "metadata": {},
   "outputs": [
    {
     "data": {
      "text/plain": [
       "675002"
      ]
     },
     "execution_count": 122,
     "metadata": {},
     "output_type": "execute_result"
    }
   ],
   "source": [
    "# Modeled naive:\n",
    "701082 - 26080"
   ]
  },
  {
   "cell_type": "code",
   "execution_count": null,
   "id": "4c6981bc",
   "metadata": {},
   "outputs": [],
   "source": []
  },
  {
   "cell_type": "code",
   "execution_count": 121,
   "id": "e36c1ad8",
   "metadata": {},
   "outputs": [
    {
     "data": {
      "text/plain": [
       "17584"
      ]
     },
     "execution_count": 121,
     "metadata": {},
     "output_type": "execute_result"
    }
   ],
   "source": [
    "# Modeled bad scenario:\n",
    "43664 - 26080"
   ]
  }
 ],
 "metadata": {
  "kernelspec": {
   "display_name": "Python 3 (ipykernel)",
   "language": "python",
   "name": "python3"
  },
  "language_info": {
   "codemirror_mode": {
    "name": "ipython",
    "version": 3
   },
   "file_extension": ".py",
   "mimetype": "text/x-python",
   "name": "python",
   "nbconvert_exporter": "python",
   "pygments_lexer": "ipython3",
   "version": "3.9.13"
  }
 },
 "nbformat": 4,
 "nbformat_minor": 5
}
